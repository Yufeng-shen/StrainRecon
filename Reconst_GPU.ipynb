{
 "cells": [
  {
   "cell_type": "code",
   "execution_count": null,
   "metadata": {
    "collapsed": true
   },
   "outputs": [],
   "source": [
    "import cProfile, pstats, StringIO\n",
    "import pycuda.gpuarray as gpuarray\n",
    "from pycuda.autoinit import context\n",
    "import pycuda.driver as cuda\n",
    "import pycuda.autoinit\n",
    "import numpy as np"
   ]
  },
  {
   "cell_type": "code",
   "execution_count": 2,
   "metadata": {
    "collapsed": false
   },
   "outputs": [],
   "source": [
    "from pycuda.compiler import SourceModule\n",
    "\n",
    "with open('strain_device.cu','r') as cudaSrc:\n",
    "    src=cudaSrc.read()\n",
    "mod = SourceModule(src)\n",
    "sim_func=mod.get_function('Simulate_for_Strain')\n",
    "hit_func=mod.get_function('Hit_Score')\n",
    "tExref = mod.get_texref(\"tcExpData\")\n",
    "tGref= mod.get_texref('tfG')"
   ]
  },
  {
   "cell_type": "code",
   "execution_count": 1,
   "metadata": {
    "collapsed": true
   },
   "outputs": [],
   "source": [
    "# variables for that specific grain and detector, in global namespace\n",
    "from InitStrain import Det1, g15Gs1_2nd, g15Info1_2nd, g15pos2nd, exp, g15orien2nd\n",
    "# Number of G vectors\n",
    "NumG=96\n",
    "## Lim for window position\n",
    "Lim=[]\n",
    "for ii in range(96):\n",
    "    Lim.append(np.load('/home/fyshen13/Strain/g15Ps1_2nd_bf/limit{0:d}.npy'.format(ii))[0])\n",
    "Lim=np.array(Lim).astype(np.int32)\n",
    "LimD=gpuarray.to_gpu(Lim)\n",
    "## whichOmega for choosing between omega1 and omega2\n",
    "whichOmega=np.zeros(len(Lim),dtype=np.int32)\n",
    "for ii in range(len(Lim)):\n",
    "    if g15Info1_2nd[ii]['WhichOmega']=='b':\n",
    "        whichOmega[ii]=2\n",
    "    else:\n",
    "        whichOmega[ii]=1\n",
    "whichOmegaD=gpuarray.to_gpu(whichOmega)\n",
    "# MaxInt for normalize the weight of each spot \n",
    "#(because different spots have very different intensity but we want them equal weighted) \n",
    "MaxInt=np.load('MaxInt_g15Ps1_2nd.npy')\n",
    "MaxIntD=gpuarray.to_gpu(MaxInt.astype(np.float32))\n",
    "\n",
    "# Det parameters\n",
    "afDetInfoH=np.concatenate([[2048,2048,0.001454,0.001454],\n",
    "                           Det1.CoordOrigin,Det1.Norm,Det1.Jvector,Det1.Kvector]).astype(np.float32)\n",
    "afDetInfoD=gpuarray.to_gpu(afDetInfoH)"
   ]
  },
  {
   "cell_type": "code",
   "execution_count": 5,
   "metadata": {
    "collapsed": false
   },
   "outputs": [],
   "source": [
    "#transfer the ExpImgs and all Gs to texture memory\n",
    "def initTEX():\n",
    "    AllIm=np.zeros(shape=(160,300,96*45),dtype=np.uint32,order='F')\n",
    "    for ii in range(96):\n",
    "        tmp=np.load('/home/fyshen13/Strain/g15Ps1_2nd_filtered/Im{0:d}.npy'.format(ii))\n",
    "        tmp=np.moveaxis(tmp, 0, 2)\n",
    "        AllIm[:tmp.shape[0],:tmp.shape[1],ii*45:(ii+1)*45]=tmp\n",
    "    shape=AllIm.shape\n",
    "    descr = cuda.ArrayDescriptor3D()\n",
    "    descr.width = shape[0]\n",
    "    descr.height = shape[1]\n",
    "    descr.depth = shape[2]\n",
    "    descr.format = cuda.dtype_to_array_format(AllIm.dtype)\n",
    "    descr.num_channels = 1\n",
    "    descr.flags = 0\n",
    "    ary = cuda.Array(descr)\n",
    "    copy = cuda.Memcpy3D()\n",
    "    copy.set_src_host(AllIm)\n",
    "    copy.set_dst_array(ary)\n",
    "    copy.width_in_bytes = copy.src_pitch = AllIm.strides[1]\n",
    "    copy.src_height = copy.height = shape[1]\n",
    "    copy.depth = shape[2]\n",
    "    copy()\n",
    "    tExref.set_array(ary)\n",
    "    \n",
    "    tGref.set_array(cuda.matrix_to_array(np.transpose(g15Gs1_2nd).astype(np.float32),order='F'))"
   ]
  },
  {
   "cell_type": "code",
   "execution_count": 27,
   "metadata": {
    "collapsed": false
   },
   "outputs": [],
   "source": [
    "def CrossEntropyMethod(x,y,NumD=10000,numCut=100,MaxIter=100,S_init=np.eye(3)):\n",
    "\n",
    "    S=np.random.multivariate_normal(\n",
    "        np.zeros(9),np.eye(9)*1e-4,size=(NumD)).reshape((NumD,3,3),order='C')+np.tile(S_init,(NumD,1,1))\n",
    "    \n",
    "\n",
    "    SD=gpuarray.to_gpu(S.ravel().astype(np.float32))\n",
    "\n",
    "    XD=gpuarray.empty(NumG*NumD,dtype=np.int32)\n",
    "    YD=gpuarray.empty(NumG*NumD,dtype=np.int32)\n",
    "    OffsetD=gpuarray.empty(NumG*NumD,dtype=np.int32)\n",
    "\n",
    "    MaskD=gpuarray.empty(NumG*NumD,dtype=np.bool_)\n",
    "    TrueMaskD=gpuarray.empty(NumG*NumD,dtype=np.bool_)\n",
    "\n",
    "    sim_func(XD,YD,OffsetD,MaskD,TrueMaskD,\n",
    "            np.float32(x), np.float32(y),afDetInfoD,SD,\n",
    "            whichOmegaD,np.int32(NumD),np.int32(NumG),np.float32(exp['energy']),np.int32(45),LimD,np.int32(5),\n",
    "             block=(NumG,1,1),grid=(NumD,1))\n",
    "    \n",
    "    scoreD=gpuarray.empty(NumD,dtype=np.float32)\n",
    "\n",
    "    BlockSize=256\n",
    "    hit_func(scoreD,\n",
    "            XD,YD,OffsetD,MaskD,TrueMaskD,\n",
    "            MaxIntD,afDetInfoD,np.int32(NumG),np.int32(NumD),np.int32(45),\n",
    "            block=(BlockSize,1,1),grid=(int(NumD/BlockSize+1),1))\n",
    "    \n",
    "    \n",
    "    score=scoreD.get()\n",
    "    args=np.argpartition(score,-numCut)[-numCut:]\n",
    "    cov=np.cov(S[args].reshape((numCut,9),order='C').T)\n",
    "    mean=np.mean(S[args],axis=0)\n",
    "    for ii in range(MaxIter):\n",
    "#         print np.max(score)\n",
    "        S=np.random.multivariate_normal(\n",
    "            np.zeros(9),cov,size=(NumD)).reshape((NumD,3,3),order='C')+np.tile(mean,(NumD,1,1))\n",
    "        SD=gpuarray.to_gpu(S.ravel().astype(np.float32))\n",
    "\n",
    "        XD=gpuarray.empty(NumG*NumD,dtype=np.int32)\n",
    "        YD=gpuarray.empty(NumG*NumD,dtype=np.int32)\n",
    "        OffsetD=gpuarray.empty(NumG*NumD,dtype=np.int32)\n",
    "\n",
    "        MaskD=gpuarray.empty(NumG*NumD,dtype=np.bool_)\n",
    "        TrueMaskD=gpuarray.empty(NumG*NumD,dtype=np.bool_)\n",
    "\n",
    "        sim_func(XD,YD,OffsetD,MaskD,TrueMaskD,\n",
    "                np.float32(x), np.float32(y),afDetInfoD,SD,\n",
    "                whichOmegaD,np.int32(NumD),np.int32(NumG),np.float32(exp['energy']),np.int32(45),LimD,np.int32(5),\n",
    "                 block=(NumG,1,1),grid=(NumD,1))\n",
    "\n",
    "        scoreD=gpuarray.empty(NumD,dtype=np.float32)\n",
    "\n",
    "        BlockSize=256\n",
    "        hit_func(scoreD,\n",
    "                XD,YD,OffsetD,MaskD,TrueMaskD,\n",
    "                MaxIntD,afDetInfoD,np.int32(NumG),np.int32(NumD),np.int32(45),\n",
    "                block=(BlockSize,1,1),grid=(int(NumD/BlockSize+1),1))\n",
    "\n",
    "\n",
    "        score=scoreD.get()\n",
    "        \n",
    "        args=np.argpartition(score,-numCut)[-numCut:]\n",
    "        cov=np.cov(S[args].reshape((numCut,9),order='C').T)\n",
    "        mean=np.mean(S[args],axis=0)\n",
    "        if np.trace(np.absolute(cov))<1e-9:\n",
    "            break\n",
    "        if np.min(score)==np.max(score):\n",
    "            break\n",
    "\n",
    "    return cov,mean,np.max(score)"
   ]
  },
  {
   "cell_type": "code",
   "execution_count": 28,
   "metadata": {
    "collapsed": false
   },
   "outputs": [
    {
     "name": "stdout",
     "output_type": "stream",
     "text": [
      "[[  1.00900047e+00  -9.77232477e-05   1.21486647e-03]\n",
      " [  2.15229161e-04   1.00905543e+00   6.87461689e-04]\n",
      " [ -1.41546166e-03  -6.05867315e-04   1.00711550e+00]]\n",
      "78.1311\n"
     ]
    }
   ],
   "source": [
    "dump,mean,score=CrossEntropyMethod(np.float32(-0.163125), np.float32(0.107171))\n",
    "print(mean)\n",
    "print(score)"
   ]
  },
  {
   "cell_type": "code",
   "execution_count": null,
   "metadata": {
    "collapsed": true
   },
   "outputs": [],
   "source": [
    "import numpy as np\n",
    "from MicFileTool import read_mic_file\n",
    "sw,snp=read_mic_file('/home/fyshen13/Strain/Reconstructions/Ti7_WithHRM_2ndLoad_z1_.mic.LBFS')\n",
    "t=snp[:,6:9]-np.tile(np.array([298.089, 65.4218, 42.9553]),(snp.shape[0],1)) #g15Ps1_2nd\n",
    "t=np.absolute(t)<1\n",
    "t=t[:,0]*t[:,1]*t[:,2] #voxels that within 1 degree misorientation\n",
    "t=snp[t]\n",
    "x=t[:,0]\n",
    "y=t[:,1]\n",
    "con=t[:,9]"
   ]
  },
  {
   "cell_type": "code",
   "execution_count": null,
   "metadata": {
    "collapsed": true
   },
   "outputs": [],
   "source": [
    "tmpxx=x[con>0.7]\n",
    "tmpyy=y[con>0.7]\n",
    "\n",
    "AllMaxScore=[]\n",
    "AllMaxS=[]\n",
    "for ii in range(len(tmpxx)):\n",
    "    if ii==0:\n",
    "        t=CrossEntropyMethod(tmpxx[ii],tmpyy[ii])\n",
    "        print ii,t[0]\n",
    "        AllMaxScore.append(t[0])\n",
    "        AllMaxS.append(t[1])\n",
    "    else:\n",
    "        t=CrossEntropyMethod(tmpxx[ii],tmpyy[ii],S_init=AllMaxS[-1])\n",
    "        print ii,t[0]\n",
    "        AllMaxScore.append(t[0])\n",
    "        AllMaxS.append(t[1])"
   ]
  },
  {
   "cell_type": "code",
   "execution_count": null,
   "metadata": {
    "collapsed": true
   },
   "outputs": [],
   "source": [
    "from scipy.linalg import polar\n",
    "realS=np.empty(AllMaxS.shape)\n",
    "realO=np.empty(AllMaxS.shape)\n",
    "for ii in range(len(realS)):\n",
    "    #lattice constant I used in python nfHEDM scripts are different from the ffHEDM reconstruction used\n",
    "    t=np.linalg.inv(AllMaxS[ii].T).dot(g15orien2nd).dot([[2.95/2.9254,0,0],[0,2.95/2.9254,0],[0,0,4.7152/4.674]])\n",
    "    realO[ii],realS[ii]=polar(t,'left')"
   ]
  },
  {
   "cell_type": "code",
   "execution_count": null,
   "metadata": {
    "collapsed": true
   },
   "outputs": [],
   "source": []
  }
 ],
 "metadata": {
  "kernelspec": {
   "display_name": "Python 2",
   "language": "python",
   "name": "python2"
  },
  "language_info": {
   "codemirror_mode": {
    "name": "ipython",
    "version": 2
   },
   "file_extension": ".py",
   "mimetype": "text/x-python",
   "name": "python",
   "nbconvert_exporter": "python",
   "pygments_lexer": "ipython2",
   "version": "2.7.13"
  }
 },
 "nbformat": 4,
 "nbformat_minor": 2
}
