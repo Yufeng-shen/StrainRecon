{
 "cells": [
  {
   "cell_type": "code",
   "execution_count": null,
   "metadata": {
    "collapsed": true
   },
   "outputs": [],
   "source": [
    "from util.MicFileTool import MicFile\n",
    "import util.Simulation as Gsim\n",
    "import util.RotRep as Rot\n",
    "import numpy as np\n",
    "import matplotlib.pyplot as plt\n",
    "from scipy.interpolate import griddata\n",
    "import h5py\n",
    "from scipy.signal import convolve2d"
   ]
  },
  {
   "cell_type": "markdown",
   "metadata": {},
   "source": [
    "# Read Grain Map from the LBFS File"
   ]
  },
  {
   "cell_type": "code",
   "execution_count": null,
   "metadata": {
    "collapsed": false
   },
   "outputs": [],
   "source": [
    "a=MicFile(\"AuxData/Ti7_WithHRM_2ndLoad_z1_.mic.LBFS\")"
   ]
  },
  {
   "cell_type": "code",
   "execution_count": null,
   "metadata": {
    "collapsed": true
   },
   "outputs": [],
   "source": [
    "grid_x,grid_y=np.meshgrid(np.arange(-0.5,0.2,0.002),np.arange(-0.4,0.4,0.002))\n",
    "grid_c = griddata(a.snp[:,0:2],a.snp[:,9],(grid_x,grid_y),method='nearest')\n",
    "grid_e1 = griddata(a.snp[:,0:2],a.snp[:,6],(grid_x,grid_y),method='nearest')\n",
    "grid_e2 = griddata(a.snp[:,0:2],a.snp[:,7],(grid_x,grid_y),method='nearest')\n",
    "grid_e3 = griddata(a.snp[:,0:2],a.snp[:,8],(grid_x,grid_y),method='nearest')"
   ]
  },
  {
   "cell_type": "code",
   "execution_count": null,
   "metadata": {
    "collapsed": true
   },
   "outputs": [],
   "source": [
    "energy = 51.9957\n",
    "etalimit=81/180.0*np.pi\n",
    "\n",
    "########################\n",
    "# Detector parameters (after my recalibration of 2nd) \n",
    "########################\n",
    "\n",
    "Det=Gsim.Detector(psizeJ=0.001454,psizeK=0.001454)\n",
    "Det.Move(1180.24,2022.76,np.array([7.056,0,0]),Rot.EulerZXZ2Mat(np.array([89.6934,90.0441,0.1904])/180.0*np.pi))\n",
    "\n",
    "\n",
    "#########################\n",
    "# Default Ti7 LP\n",
    "#########################\n",
    "Ti7=Gsim.CrystalStr('Ti7')\n",
    "Ti7.getRecipVec()\n",
    "Ti7.getGs(13)"
   ]
  },
  {
   "cell_type": "code",
   "execution_count": null,
   "metadata": {
    "collapsed": true
   },
   "outputs": [],
   "source": [
    "# Extract the window around the peak on a single omega frame\n",
    "\n",
    "def fetch(ii,pks,fn,offset=0,dx=150,dy=80,verbo=False,bGetLimit=False):\n",
    "    omegid=int((180-pks[ii,2])*20)+offset\n",
    "    if omegid<0:\n",
    "        omegid+=3600\n",
    "    if omegid>=3600:\n",
    "        omegid-=3600\n",
    "    I=plt.imread(fn+'{0:06d}.tif'.format(omegid))\n",
    "    x1=int((2047-pks[ii,0])-dx)\n",
    "    y1=int(pks[ii,1]-dy)\n",
    "    if verbo:\n",
    "        print 'y=',pks[ii,1]\n",
    "        print 'x=',pks[ii,0]\n",
    "    x1=max(0,x1)\n",
    "    y1=max(0,y1)\n",
    "    x2=x1+2*dx\n",
    "    y2=y1+2*dy\n",
    "    x2=min(x2,2048)\n",
    "    y2=min(y2,2048)\n",
    "    if bGetLimit:\n",
    "        return I[y1:y2,x1:x2],(x1,x2,y1,y2,omegid)\n",
    "    return I[y1:y2,x1:x2]"
   ]
  },
  {
   "cell_type": "code",
   "execution_count": null,
   "metadata": {
    "collapsed": false
   },
   "outputs": [],
   "source": [
    "GrainDict={}\n",
    "GrainDict[2]=(96.6718, 83.8559, 292.454)\n",
    "GrainDict[8]=(153.18, 83.0631, 205.721)\n",
    "GrainDict[13]=(120.784,   80.9295,  246.202)\n",
    "GrainDict[14]=(307.363,71.8926,74.2928)\n",
    "GrainDict[15]=(298.089, 65.4218, 42.9553)\n",
    "\n",
    "GrainDict[23]=(137.852, 77.3726, 206.271)\n",
    "GrainDict[24]=(341.519, 79.2855, 7.2755)\n",
    "GrainDict[25]=(328.93, 88.8624, 11.7176)\n",
    "\n",
    "GrainDict[45]=(117.498,   86.6945,  214.956)\n",
    "GrainDict[46]=(147.248,   81.8513,  217.515)\n",
    "GrainDict[50]=(331.545, 72.4743, 52.0357)\n",
    "GrainDict[55]=(97.9141, 90.0041, 259.313)"
   ]
  },
  {
   "cell_type": "code",
   "execution_count": null,
   "metadata": {
    "collapsed": true
   },
   "outputs": [],
   "source": [
    "GrainIDMap=np.zeros(grid_c.shape,dtype=int)\n",
    "for grainID in GrainDict:\n",
    "    (e1,e2,e3)=GrainDict[grainID]\n",
    "    tmp = grid_c > 0.3\n",
    "    tmp*=np.absolute(grid_e1 - e1)<1\n",
    "    tmp*=np.absolute(grid_e2 - e2)<1\n",
    "    tmp*=np.absolute(grid_e3 - e3)<1\n",
    "    GrainIDMap += grainID * tmp"
   ]
  },
  {
   "cell_type": "code",
   "execution_count": null,
   "metadata": {
    "collapsed": false
   },
   "outputs": [],
   "source": [
    "plt.imshow(GrainIDMap,origin='lower')\n",
    "plt.show()"
   ]
  },
  {
   "cell_type": "code",
   "execution_count": null,
   "metadata": {
    "collapsed": false
   },
   "outputs": [],
   "source": [
    "\n",
    "with h5py.File('micFile/Ti7HRM2nd.hdf5','w') as f:\n",
    "    ds=f.create_dataset(\"origin\", data = np.array([-0.5,-0.4]))\n",
    "    ds.attrs[u'units'] = u'mm'\n",
    "    ds=f.create_dataset(\"stepSize\", data = np.array([0.002,0.002]))\n",
    "    ds.attrs[u'units'] = u'mm'\n",
    "    f.create_dataset(\"Xcoordinate\", data = grid_x)\n",
    "    f.create_dataset(\"Ycoordinate\", data = grid_y)\n",
    "    f.create_dataset(\"Convidence\", data = grid_c)\n",
    "    f.create_dataset(\"Ph1\", data = grid_e1)\n",
    "    f.create_dataset(\"Psi\", data = grid_e2)\n",
    "    f.create_dataset(\"Ph2\", data = grid_e3)\n",
    "    f.create_dataset(\"GrainID\", data = GrainIDMap)"
   ]
  },
  {
   "cell_type": "markdown",
   "metadata": {},
   "source": [
    "# Create HDF5 File for the Bragg Peaks of One Grain"
   ]
  },
  {
   "cell_type": "code",
   "execution_count": null,
   "metadata": {
    "collapsed": false
   },
   "outputs": [],
   "source": [
    "gid=8\n",
    "strName='g08'\n",
    "\n",
    "pos=np.array((np.mean(grid_x[np.where(GrainIDMap==gid)]),np.mean(grid_y[np.where(GrainIDMap==gid)]),0))\n",
    "orien=Rot.EulerZXZ2Mat(np.array(GrainDict[gid])/180.0*np.pi)\n",
    "Ps,Gs,Info=Gsim.GetProjectedVertex(Det,Ti7,orien,etalimit,pos,getPeaksInfo=True,\n",
    "                                           omegaL=0,omegaU=180,energy=energy)\n",
    "print(len(Ps))"
   ]
  },
  {
   "cell_type": "code",
   "execution_count": null,
   "metadata": {
    "collapsed": false,
    "scrolled": true
   },
   "outputs": [],
   "source": [
    "fn='TiffFiles/Ti7_WithHRM_Under2ndLoad__'\n",
    "pks=Ps\n",
    "for ii in range(len(pks)):\n",
    "    allpks=[]\n",
    "    alllims=[]\n",
    "    totoffset=0\n",
    "    f,axis=plt.subplots(9,5)\n",
    "    i=0\n",
    "    j=0\n",
    "    for offset in range(totoffset-22,totoffset+23):\n",
    "        Im,limits=fetch(ii,pks,fn,offset,dx=150,dy=80,more=True)\n",
    "        \n",
    "        if i==9:\n",
    "            j+=1\n",
    "            i=0\n",
    "        axis[i,j].imshow(Im,vmin=0,vmax=30)\n",
    "        i+=1\n",
    "        \n",
    "        allpks.append(Im)\n",
    "        alllims.append(limits)\n",
    "        \n",
    "    f.subplots_adjust(wspace=0,hspace=0)\n",
    "    f.savefig(strName+'PeakImg/{0:d}.png'.format(ii),dpi=200,bbox_inches='tight')\n",
    "    plt.close(f)\n",
    "    allpks=np.array(allpks)\n",
    "    alllims=np.array(alllims)\n",
    "    np.save(strName+'RawImgData/Im{0:d}'.format(ii),allpks)\n",
    "    np.save(strName+'RawImgData/limit{0:d}'.format(ii),alllims)"
   ]
  },
  {
   "cell_type": "code",
   "execution_count": null,
   "metadata": {
    "collapsed": true
   },
   "outputs": [],
   "source": [
    "# manually label the bad images in the folder of PeakImg\n",
    "# \"bad\" means extremely low signal to noise ratio or can't find the peak at all\n",
    "badIdx=[0,2]"
   ]
  },
  {
   "cell_type": "code",
   "execution_count": null,
   "metadata": {
    "collapsed": true
   },
   "outputs": [],
   "source": [
    "# apply some filters to remove the noise\n",
    "\n",
    "\n",
    "Nfile=len(Ps)\n",
    "strName='g08'\n",
    "\n",
    "Im=[]\n",
    "flucThresh=4\n",
    "\n",
    "for ii in range(Nfile):\n",
    "    Im.append(np.load(strName+'RawImgData/Im{:d}.npy'.format(ii)))\n",
    "    Im[ii]=Im[ii]-np.median(Im[ii],axis=0) #substract the median\n",
    "    mask=Im[ii]>flucThresh\n",
    "    Im[ii]=mask*Im[ii] #make all pixel that below the fluctuation to be zero \n",
    "\n",
    "\n",
    "mykernel=np.array([[1,1,1],[1,-1,1],[1,1,1]])\n",
    "# remove hot spot (whose value is higher than the sum of 8 neighbors)\n",
    "for ii in range(Nfile):\n",
    "    for jj in range(45):\n",
    "        mask=convolve2d(Im[ii][jj],mykernel,mode='same')>0\n",
    "        Im[ii][jj]*=mask\n",
    "        \n",
    "\n",
    "mykernel2=np.array([[1,2,1],[2,4,2],[1,2,1]])/16.0\n",
    "# Smoothing\n",
    "for ii in range(Nfile):\n",
    "    for jj in range(45):\n",
    "        Im[ii][jj]=convolve2d(Im[ii][jj],mykernel2,mode='same')\n",
    "\n",
    "for ii in range(Nfile):\n",
    "    np.save(strName+'FilteredImgData/Im{:d}'.format(ii),Im[ii].astype('uint16'))"
   ]
  },
  {
   "cell_type": "code",
   "execution_count": null,
   "metadata": {
    "collapsed": true
   },
   "outputs": [],
   "source": [
    "goodidx = np.delete(np.arange(len(Ps)), badIdx)\n",
    "\n",
    "imgN = len(goodidx)\n",
    "peakMap = np.zeros((160,300,45*imgN),dtype=np.uint16)\n",
    "LimH = np.empty((imgN,5),dtype=np.int32)\n",
    "Gs_good = Gs[goodidx]\n",
    "whichOmega = np.empty(imgN,dtype=np.int32)\n",
    "\n",
    "\n",
    "avg_distortion = np.eye(3)\n",
    "MaxInt = np.empty(imgN,dtype=np.float32)\n",
    "\n",
    "for ii in range(imgN):\n",
    "    limit=np.load(strName+'RawImgData/limit{0:d}.npy'.format(goodidx[ii]))\n",
    "    img = np.load(strName+'FilteredImgData/Im{0:d}.npy'.format(goodidx[ii]))\n",
    "    peakMap[:img.shape[1],:img.shape[2],ii * 45:(ii + 1) * 45] = np.moveaxis(img,0,-1)\n",
    "    LimH[ii,:]=limit[0]\n",
    "    MaxInt[ii]=np.max(img)\n",
    "    if Info[goodidx[ii]]['WhichOmega']=='b':\n",
    "        whichOmega[ii] = 2\n",
    "    else:\n",
    "        whichOmega[ii] = 1\n",
    "\n",
    "\n",
    "\n",
    "with h5py.File('RealPeaks/RealSample_'+strName+'.hdf5', 'w') as f:\n",
    "    f.create_dataset(\"limits\", data=LimH)\n",
    "    f.create_dataset(\"Gs\", data=Gs_good)\n",
    "    f.create_dataset(\"whichOmega\", data=whichOmega)\n",
    "    f.create_dataset(\"Pos\", data=pos)\n",
    "    f.create_dataset(\"OrienM\", data=orien)\n",
    "    f.create_dataset(\"avg_distortion\", data=avg_distortion)\n",
    "    f.create_dataset(\"MaxInt\", data=MaxInt)\n",
    "\n",
    "    grp = f.create_group('Imgs')\n",
    "    for ii in range(imgN):\n",
    "        grp.create_dataset('Im{0:d}'.format(ii), data=peakMap[:,:,ii * 45:(ii + 1) * 45])"
   ]
  }
 ],
 "metadata": {
  "kernelspec": {
   "display_name": "Python 2",
   "language": "python",
   "name": "python2"
  },
  "language_info": {
   "codemirror_mode": {
    "name": "ipython",
    "version": 2
   },
   "file_extension": ".py",
   "mimetype": "text/x-python",
   "name": "python",
   "nbconvert_exporter": "python",
   "pygments_lexer": "ipython2",
   "version": "2.7.13"
  }
 },
 "nbformat": 4,
 "nbformat_minor": 2
}
